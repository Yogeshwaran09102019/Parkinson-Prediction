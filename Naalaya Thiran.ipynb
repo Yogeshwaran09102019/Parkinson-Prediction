{
 "cells": [
  {
   "cell_type": "code",
   "execution_count": 3,
   "metadata": {},
   "outputs": [
    {
     "name": "stdout",
     "output_type": "stream",
     "text": [
      "Collecting imutils\n",
      "  Downloading imutils-0.5.4.tar.gz (17 kB)\n",
      "Building wheels for collected packages: imutils\n",
      "  Building wheel for imutils (setup.py): started\n",
      "  Building wheel for imutils (setup.py): finished with status 'done'\n",
      "  Created wheel for imutils: filename=imutils-0.5.4-py3-none-any.whl size=25862 sha256=4df05009385f6b58dc9eec4b4514713f4109ca05f581439f57b7d4032f2c29d0\n",
      "  Stored in directory: c:\\users\\yogeshwaran\\appdata\\local\\pip\\cache\\wheels\\86\\d7\\0a\\4923351ed1cec5d5e24c1eaf8905567b02a0343b24aa873df2\n",
      "Successfully built imutils\n",
      "Installing collected packages: imutils\n",
      "Successfully installed imutils-0.5.4\n"
     ]
    }
   ],
   "source": [
    "!pip install imutils"
   ]
  },
  {
   "cell_type": "code",
   "execution_count": 7,
   "metadata": {},
   "outputs": [
    {
     "name": "stdout",
     "output_type": "stream",
     "text": [
      "Collecting opencv-python\n",
      "  Downloading opencv_python-4.6.0.66-cp36-abi3-win_amd64.whl (35.6 MB)\n",
      "Requirement already satisfied: numpy>=1.14.5; python_version >= \"3.7\" in d:\\studies\\anaconda\\lib\\site-packages (from opencv-python) (1.18.1)\n",
      "Installing collected packages: opencv-python\n",
      "Successfully installed opencv-python-4.6.0.66\n",
      "Note: you may need to restart the kernel to use updated packages.\n"
     ]
    }
   ],
   "source": [
    "pip install opencv-python"
   ]
  },
  {
   "cell_type": "code",
   "execution_count": 2,
   "metadata": {},
   "outputs": [
    {
     "name": "stdout",
     "output_type": "stream",
     "text": [
      "Collecting pickle-mixin\n",
      "  Downloading pickle-mixin-1.0.2.tar.gz (5.1 kB)\n",
      "Building wheels for collected packages: pickle-mixin\n",
      "  Building wheel for pickle-mixin (setup.py): started\n",
      "  Building wheel for pickle-mixin (setup.py): finished with status 'done'\n",
      "  Created wheel for pickle-mixin: filename=pickle_mixin-1.0.2-py3-none-any.whl size=6002 sha256=96ef57064bc440dee6d48fec8b329f13b1bb79fb1c516cbd5cfa44b44c10c0ca\n",
      "  Stored in directory: c:\\users\\yogeshwaran\\appdata\\local\\pip\\cache\\wheels\\d0\\70\\0b\\673e09a7ed429660d22352a1b117b4f616a8fc054bdd7eb157\n",
      "Successfully built pickle-mixin\n",
      "Installing collected packages: pickle-mixin\n",
      "Successfully installed pickle-mixin-1.0.2\n",
      "Note: you may need to restart the kernel to use updated packages.\n"
     ]
    }
   ],
   "source": [
    "pip install pickle-mixin"
   ]
  },
  {
   "cell_type": "code",
   "execution_count": 7,
   "metadata": {},
   "outputs": [],
   "source": [
    "from sklearn.ensemble import RandomForestClassifier\n",
    "from sklearn.preprocessing import LabelEncoder\n",
    "from sklearn.metrics import confusion_matrix\n",
    "from skimage import feature\n",
    "from imutils import build_montages\n",
    "from imutils import paths\n",
    "import numpy as np\n",
    "import cv2\n",
    "import os\n",
    "import pickle"
   ]
  },
  {
   "cell_type": "code",
   "execution_count": 8,
   "metadata": {},
   "outputs": [],
   "source": [
    "trainingPath=r\"D:\\STUDIES\\Project\\Nalaya Thiran Dataset\\dataset-20220920T082711Z-001\\dataset\\spiral\\training\"\n",
    "testingPath=r\"D:\\STUDIES\\Project\\Nalaya Thiran Dataset\\dataset-20220920T082711Z-001\\dataset\\spiral\\testing\""
   ]
  },
  {
   "cell_type": "code",
   "execution_count": 17,
   "metadata": {},
   "outputs": [],
   "source": [
    "def load_split ( path ) :\n",
    "    #grab the list of images in the input directory , then initialize\n",
    "    # the list of data ( i.e. , images ) and class labels\n",
    "    imagePaths = list ( paths.list_images ( path ) )\n",
    "    data = [ ]\n",
    "    labels = [ ]\n",
    "   #loop over the image paths\n",
    "    for imagePath in imagePaths :\n",
    "        #extract the class label from the filename\n",
    "        label = imagePath.split ( os.path.sep ) [ -2 ]\n",
    "        #load the input image , convert it to grayscale , and resize\n",
    "        # it to 200x200 pixels , ignoring aspect ratio\n",
    "        image = cv2.imread ( imagePath )\n",
    "        image = cv2.cvtColor ( image , cv2.COLOR_BGR2GRAY )\n",
    "        image = cv2.resize ( image , ( 200 , 200 ) )\n",
    "        # threshold the image such that the drawing appears as white\n",
    "        # on a black background\n",
    "        image = cv2.threshold(image , 0 , 255 , cv2.THRESH_BINARY_INV | cv2 . THRESH_OTSU)[ 1 ]\n",
    "        # quantify the image\n",
    "        features = quantify_image(image)\n",
    "        # update the data and labels lists , respectively\n",
    "        data.append ( features )\n",
    "        labels.append ( label )\n",
    "    # return the data and labels\n",
    "    return ( np.array ( data ) , np.array ( labels ) )"
   ]
  },
  {
   "cell_type": "code",
   "execution_count": 19,
   "metadata": {},
   "outputs": [],
   "source": [
    "def quantify_image(image):\n",
    "    # compute the histogram \n",
    "    features = feature.hog(image, orientations=9,\n",
    "    pixels_per_cell=(10, 10), cells_per_block=(2, 2),\n",
    "    transform_sqrt=True, block_norm=\"L1\")\n",
    "\n",
    "    # return the feature vector\n",
    "    return features"
   ]
  },
  {
   "cell_type": "code",
   "execution_count": 20,
   "metadata": {},
   "outputs": [],
   "source": [
    "(X_train, y_train)=load_split(trainingPath)\n",
    "(X_test,y_test)=load_split(testingPath)"
   ]
  },
  {
   "cell_type": "code",
   "execution_count": 21,
   "metadata": {},
   "outputs": [
    {
     "name": "stdout",
     "output_type": "stream",
     "text": [
      "(72, 12996) (72,)\n"
     ]
    }
   ],
   "source": [
    "# encode the labels as integers\n",
    "le = LabelEncoder()\n",
    "y_train = le.fit_transform(y_train)\n",
    "y_test = le.transform(y_test)\n",
    "print(X_train.shape,y_train.shape)"
   ]
  },
  {
   "cell_type": "code",
   "execution_count": 22,
   "metadata": {},
   "outputs": [
    {
     "name": "stdout",
     "output_type": "stream",
     "text": [
      " [ INFO ] training model \n"
     ]
    },
    {
     "data": {
      "text/plain": [
       "RandomForestClassifier(bootstrap=True, ccp_alpha=0.0, class_weight=None,\n",
       "                       criterion='gini', max_depth=None, max_features='auto',\n",
       "                       max_leaf_nodes=None, max_samples=None,\n",
       "                       min_impurity_decrease=0.0, min_impurity_split=None,\n",
       "                       min_samples_leaf=1, min_samples_split=2,\n",
       "                       min_weight_fraction_leaf=0.0, n_estimators=100,\n",
       "                       n_jobs=None, oob_score=False, random_state=None,\n",
       "                       verbose=0, warm_start=False)"
      ]
     },
     "execution_count": 22,
     "metadata": {},
     "output_type": "execute_result"
    }
   ],
   "source": [
    "print( \" [ INFO ] training model \" )\n",
    "model = RandomForestClassifier(n_estimators = 100 )\n",
    "model.fit(X_train , y_train)"
   ]
  },
  {
   "cell_type": "code",
   "execution_count": 89,
   "metadata": {},
   "outputs": [
    {
     "name": "stdout",
     "output_type": "stream",
     "text": [
      "[ 0  1  2  3  4  5  6  7  8  9 10 11 12 13 14 15 16 17 18 19 20 21 22 23\n",
      " 24 25 26 27 28 29]\n",
      "[20 28 17 25 13  5  3 14 29  0 15 18  9  1 24 21 22 12  6 27 23  4 11 10\n",
      " 16]\n"
     ]
    }
   ],
   "source": [
    "testPaths = list(paths.list_images(testingPath))\n",
    "idxs = np.arange(0 , len(testPaths))\n",
    "print(idxs)\n",
    "idxs = np.random.choice(idxs , size=(25,), replace=False)\n",
    "print(idxs)\n",
    "images = []"
   ]
  },
  {
   "cell_type": "code",
   "execution_count": 90,
   "metadata": {},
   "outputs": [],
   "source": [
    "for i in idxs:\n",
    "    image = cv2.imread(testPaths[i])\n",
    "    output = image.copy()\n",
    "    output = cv2.resize(output , (128,128))\n",
    "    image = cv2.cvtColor(image , cv2.COLOR_BGR2GRAY)\n",
    "    image = cv2.resize(image , (200,200))\n",
    "    image = cv2.threshold(image , 0 , 255,cv2.THRESH_BINARY_INV | cv2.THRESH_OTSU)[1]\n",
    "    features = quantify_image(image)\n",
    "    preds = model.predict([features])\n",
    "    label = le.inverse_transform(preds)[0]\n",
    "    color = (0 , 255 , 0) if label == \"healthy\" else (0 , 0 ,255)\n",
    "    cv2.putText(output , label , (3, 20) , cv2.FONT_HERSHEY_SIMPLEX , 0.5,color , 2)\n",
    "    images.append(output)"
   ]
  },
  {
   "cell_type": "code",
   "execution_count": 92,
   "metadata": {},
   "outputs": [
    {
     "data": {
      "text/plain": [
       "-1"
      ]
     },
     "execution_count": 92,
     "metadata": {},
     "output_type": "execute_result"
    }
   ],
   "source": [
    "montage = build_montages(images , (128,128) ,(5,5))[0]\n",
    "cv2.imshow(\"OUTPUT\",montage)\n",
    "cv2.waitKey(0)"
   ]
  },
  {
   "cell_type": "code",
   "execution_count": 93,
   "metadata": {},
   "outputs": [
    {
     "name": "stdout",
     "output_type": "stream",
     "text": [
      "[13  2  3 12]\n",
      "0.8333333333333334\n"
     ]
    }
   ],
   "source": [
    "predictions = model.predict(X_test)\n",
    "cm = confusion_matrix(y_test , predictions).flatten()\n",
    "print(cm)\n",
    "(tn , fp , fn , tp) = cm\n",
    "accuracy  = (tp + tn) / float(cm.sum())\n",
    "print(accuracy)"
   ]
  },
  {
   "cell_type": "code",
   "execution_count": 94,
   "metadata": {},
   "outputs": [],
   "source": [
    "pickle.dump(model , open('parkinsons.pkl','wb'))"
   ]
  },
  {
   "cell_type": "code",
   "execution_count": null,
   "metadata": {},
   "outputs": [],
   "source": []
  }
 ],
 "metadata": {
  "kernelspec": {
   "display_name": "Python 3",
   "language": "python",
   "name": "python3"
  },
  "language_info": {
   "codemirror_mode": {
    "name": "ipython",
    "version": 3
   },
   "file_extension": ".py",
   "mimetype": "text/x-python",
   "name": "python",
   "nbconvert_exporter": "python",
   "pygments_lexer": "ipython3",
   "version": "3.7.6"
  }
 },
 "nbformat": 4,
 "nbformat_minor": 4
}
